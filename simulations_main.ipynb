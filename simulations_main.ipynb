{
 "cells": [
  {
   "cell_type": "code",
   "execution_count": 3,
   "metadata": {},
   "outputs": [],
   "source": [
    "import import_ipynb\n",
    "import pcfs_simulations_g2\n",
    "import os"
   ]
  },
  {
   "cell_type": "code",
   "execution_count": 1,
   "metadata": {},
   "outputs": [
    {
     "ename": "SyntaxError",
     "evalue": "invalid syntax (4106606935.py, line 8)",
     "output_type": "error",
     "traceback": [
      "\u001b[1;36m  Cell \u001b[1;32mIn[1], line 8\u001b[1;36m\u001b[0m\n\u001b[1;33m    photons_per_emitter =\u001b[0m\n\u001b[1;37m                         ^\u001b[0m\n\u001b[1;31mSyntaxError\u001b[0m\u001b[1;31m:\u001b[0m invalid syntax\n"
     ]
    }
   ],
   "source": [
    "#input parameters\n",
    "main_directory = \"C:\\\\Users\\\\Aditi\\\\OneDrive\\\\UtzatGroup\\\\\"\n",
    "\n",
    "for entry in training_data.iterrows():\n",
    "    entry[\"raman_wavenumber\"] = raman_wavenumber\n",
    "    entry[\"linewidth_cm\"] = linewidth_cm\n",
    "    \n",
    "    photons_per_emitter = 1e5\n",
    "    subpath = f\"{int(raman_wavenumber)}_{int(linewidth_cm)}_1e5\"\n",
    "    directory_path = os.path.join(main_directory, subpath)\n",
    "    num_stage_pos = 50\n",
    "\n",
    "    pcfs_simulations_g2.run_simulation(directory_path, num_stage_pos, photons_per_emitter, raman_wavenumber, linewidth_cm, freq_jump_cm, plot=False)\n",
    "    \n"
   ]
  }
 ],
 "metadata": {
  "kernelspec": {
   "display_name": "Python 3",
   "language": "python",
   "name": "python3"
  },
  "language_info": {
   "codemirror_mode": {
    "name": "ipython",
    "version": 3
   },
   "file_extension": ".py",
   "mimetype": "text/x-python",
   "name": "python",
   "nbconvert_exporter": "python",
   "pygments_lexer": "ipython3",
   "version": "3.11.9"
  }
 },
 "nbformat": 4,
 "nbformat_minor": 2
}
